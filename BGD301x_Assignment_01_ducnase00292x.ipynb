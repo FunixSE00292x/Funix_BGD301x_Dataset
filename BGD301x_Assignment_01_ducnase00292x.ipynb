{
  "nbformat": 4,
  "nbformat_minor": 0,
  "metadata": {
    "colab": {
      "provenance": [],
      "collapsed_sections": [],
      "authorship_tag": "ABX9TyOJbfhc0PJyJsuFuJHcoRkI",
      "include_colab_link": true
    },
    "kernelspec": {
      "name": "python3",
      "display_name": "Python 3"
    },
    "language_info": {
      "name": "python"
    }
  },
  "cells": [
    {
      "cell_type": "markdown",
      "metadata": {
        "id": "view-in-github",
        "colab_type": "text"
      },
      "source": [
        "<a href=\"https://colab.research.google.com/github/FunixSE00292x/Funix_BGD301x_Dataset/blob/main/BGD301x_Assignment_01_ducnase00292x.ipynb\" target=\"_parent\"><img src=\"https://colab.research.google.com/assets/colab-badge.svg\" alt=\"Open In Colab\"/></a>"
      ]
    },
    {
      "cell_type": "markdown",
      "source": [
        "# Setup - Assignment 1 BigData - BGD301x - ducnase00292x@funix.edu.vn"
      ],
      "metadata": {
        "id": "UDwDpl8RBEkl"
      }
    },
    {
      "cell_type": "markdown",
      "source": [
        "## Dowload Dataset"
      ],
      "metadata": {
        "id": "VbhsdJylBSX5"
      }
    },
    {
      "cell_type": "code",
      "source": [
        "from google.colab import drive\n",
        "drive.mount('/content/drive')"
      ],
      "metadata": {
        "colab": {
          "base_uri": "https://localhost:8080/"
        },
        "id": "vq5e1aW8SgLN",
        "outputId": "17812b87-7520-4483-f49f-ad2b1e0dd9f4"
      },
      "execution_count": null,
      "outputs": [
        {
          "output_type": "stream",
          "name": "stdout",
          "text": [
            "Mounted at /content/drive\n"
          ]
        }
      ]
    },
    {
      "cell_type": "code",
      "source": [
        "!ls"
      ],
      "metadata": {
        "colab": {
          "base_uri": "https://localhost:8080/"
        },
        "id": "RywFKCBYbJl9",
        "outputId": "445fdda7-d41f-444b-b46e-9ba5c2279a15"
      },
      "execution_count": null,
      "outputs": [
        {
          "output_type": "stream",
          "name": "stdout",
          "text": [
            "drive  sample_data\n"
          ]
        }
      ]
    },
    {
      "cell_type": "markdown",
      "source": [],
      "metadata": {
        "id": "PwJMn_sObJPH"
      }
    },
    {
      "cell_type": "markdown",
      "source": [
        "## Import thư viện"
      ],
      "metadata": {
        "id": "TJKWkyZ3GYOJ"
      }
    },
    {
      "cell_type": "code",
      "source": [
        "!pip install pyspark"
      ],
      "metadata": {
        "colab": {
          "base_uri": "https://localhost:8080/"
        },
        "id": "Npr_psy1IXE9",
        "outputId": "1c9d5fa4-0b7e-4548-e9e9-c645e33cd091"
      },
      "execution_count": null,
      "outputs": [
        {
          "output_type": "stream",
          "name": "stdout",
          "text": [
            "Looking in indexes: https://pypi.org/simple, https://us-python.pkg.dev/colab-wheels/public/simple/\n",
            "Collecting pyspark\n",
            "  Downloading pyspark-3.3.0.tar.gz (281.3 MB)\n",
            "\u001b[K     |████████████████████████████████| 281.3 MB 49 kB/s \n",
            "\u001b[?25hCollecting py4j==0.10.9.5\n",
            "  Downloading py4j-0.10.9.5-py2.py3-none-any.whl (199 kB)\n",
            "\u001b[K     |████████████████████████████████| 199 kB 51.1 MB/s \n",
            "\u001b[?25hBuilding wheels for collected packages: pyspark\n",
            "  Building wheel for pyspark (setup.py) ... \u001b[?25l\u001b[?25hdone\n",
            "  Created wheel for pyspark: filename=pyspark-3.3.0-py2.py3-none-any.whl size=281764026 sha256=ff1c86cb4d2c7d2fccd3c78fdfc6c4cb8bea5cfec08420b6e0107273b0b991d1\n",
            "  Stored in directory: /root/.cache/pip/wheels/7a/8e/1b/f73a52650d2e5f337708d9f6a1750d451a7349a867f928b885\n",
            "Successfully built pyspark\n",
            "Installing collected packages: py4j, pyspark\n",
            "Successfully installed py4j-0.10.9.5 pyspark-3.3.0\n"
          ]
        }
      ]
    },
    {
      "cell_type": "code",
      "source": [
        "from pyspark import SparkContext\n",
        "from operator import add\n",
        "from re import sub"
      ],
      "metadata": {
        "id": "y2publOaJPYl"
      },
      "execution_count": null,
      "outputs": []
    },
    {
      "cell_type": "markdown",
      "source": [
        "## Đọc dữ liệu raw -> convert sang list\\<int\\> (RDD)"
      ],
      "metadata": {
        "id": "EAbk9vDJJn4b"
      }
    },
    {
      "cell_type": "code",
      "metadata": {
        "id": "dLLXaU8t6xwN"
      },
      "source": [
        "rdd = (\n",
        "  SparkContext.getOrCreate()\n",
        "    .textFile(\"/content/drive/MyDrive/Colab Notebooks/assn1/*.txt\") # đọc từ file\n",
        "    .map(lambda raw_data: sub(\"[\\D]\", \" \", raw_data)) # loại bỏ dấu câu\n",
        "    .flatMap(lambda x: x.split()) # split văn bản thành list các số và hợp nhất 5 cái list này của 5 file lại thành 1 list chung\n",
        "    .map(int) # convert list<string> -> list<int>\n",
        ")"
      ],
      "execution_count": null,
      "outputs": []
    },
    {
      "cell_type": "markdown",
      "source": [
        "# Bài làm:"
      ],
      "metadata": {
        "id": "90x70iNWYyRO"
      }
    },
    {
      "cell_type": "markdown",
      "source": [
        "## Câu 1: Tìm số nguyên lớn nhất."
      ],
      "metadata": {
        "id": "_zBd9l3yY3aq"
      }
    },
    {
      "cell_type": "code",
      "source": [
        "def max_in_partition(iterator):\n",
        "  yield max(iterator)"
      ],
      "metadata": {
        "id": "JLRv7GcrY9vo"
      },
      "execution_count": null,
      "outputs": []
    },
    {
      "cell_type": "code",
      "source": [
        "print(\n",
        "  rdd.repartition(10)  # tách thành 10 phần khác nhau\n",
        "    .mapPartitions(max_in_partition)  # tìm max của mỗi phần riêng biệt - reduce lần 1\n",
        "    .reduce(max) # tìm max giữa 10 giá trị max trả về của 10 phần -  reduce lần 2\n",
        ")"
      ],
      "metadata": {
        "colab": {
          "base_uri": "https://localhost:8080/"
        },
        "id": "c9FCfUzjeJfD",
        "outputId": "57447ef0-243c-4d24-f47b-8fb17470ebab"
      },
      "execution_count": null,
      "outputs": [
        {
          "output_type": "stream",
          "name": "stdout",
          "text": [
            "4339988962\n"
          ]
        }
      ]
    },
    {
      "cell_type": "markdown",
      "source": [
        "## Câu 2: Tính trung bình của tất cả các số nguyên."
      ],
      "metadata": {
        "id": "FhwPr22qaKJA"
      }
    },
    {
      "cell_type": "code",
      "source": [
        "print(rdd.mean())"
      ],
      "metadata": {
        "colab": {
          "base_uri": "https://localhost:8080/"
        },
        "id": "wHw_ETLdaOC_",
        "outputId": "618820e7-58dc-408a-8e10-a189cbf2079a"
      },
      "execution_count": null,
      "outputs": [
        {
          "output_type": "stream",
          "name": "stdout",
          "text": [
            "499494337.4409073\n"
          ]
        }
      ]
    },
    {
      "cell_type": "markdown",
      "source": [
        "## Câu 3. Tìm mười số nguyên có tần suất xuất hiện cao nhất sử dụng hàm có sẵn trong pyspark."
      ],
      "metadata": {
        "id": "clgr1mSIeSK9"
      }
    },
    {
      "cell_type": "code",
      "source": [
        "print(\n",
        "  rdd.map(lambda num: (num, 1)).reduceByKey(add)\n",
        "    .takeOrdered(10, key=lambda num: -num[1]) # Sort by values - descending\n",
        "    # .sortBy(lambda num: num[1], ascending=False).take(10)\n",
        ")"
      ],
      "metadata": {
        "colab": {
          "base_uri": "https://localhost:8080/"
        },
        "id": "lEwt1bxgeWTT",
        "outputId": "d64e3dab-3278-464e-ae09-1114b00e481a"
      },
      "execution_count": null,
      "outputs": [
        {
          "output_type": "stream",
          "name": "stdout",
          "text": [
            "[(339988962, 8), (830500257, 5), (793327022, 5), (983233161, 3), (268141338, 3), (781491805, 2), (494040970, 2), (955884525, 2), (645970095, 2), (212849680, 2)]\n"
          ]
        }
      ]
    },
    {
      "cell_type": "markdown",
      "source": [
        "## Câu 4. Tìm mười số nguyên có tần suất xuất hiện cao nhất bằng cách tự viết thuật toán MergeSort."
      ],
      "metadata": {
        "id": "Go-iDGuWeYdb"
      }
    },
    {
      "cell_type": "code",
      "source": [
        "def custom_merge_sort(data, key):\n",
        "    def merge_sort(arr):\n",
        "        size = len(arr)\n",
        "        if size > 1:\n",
        "            middle = size // 2\n",
        "            left_arr = arr[:middle]\n",
        "            right_arr = arr[middle:]\n",
        "\n",
        "            merge_sort(left_arr)\n",
        "            merge_sort(right_arr)\n",
        "\n",
        "            x = 0\n",
        "            y = 0\n",
        "            z = 0\n",
        "\n",
        "            left_size = len(left_arr)\n",
        "            right_size = len(right_arr)\n",
        "            while x < left_size and y < right_size:\n",
        "                if key(left_arr[x]) < key(right_arr[y]):\n",
        "                    arr[z] = left_arr[x]\n",
        "                    x += 1\n",
        "                else:\n",
        "                    arr[z] = right_arr[y]\n",
        "                    y += 1\n",
        "\n",
        "                z += 1\n",
        "\n",
        "            while x < left_size:\n",
        "                arr[z] = left_arr[x]\n",
        "                x += 1\n",
        "                z += 1\n",
        "\n",
        "            while y < right_size:\n",
        "                arr[z] = right_arr[y]\n",
        "                y += 1\n",
        "                z += 1\n",
        "    merge_sort(data)\n",
        "    return data"
      ],
      "metadata": {
        "id": "xuPTxjcpea-h"
      },
      "execution_count": null,
      "outputs": []
    },
    {
      "cell_type": "code",
      "source": [
        "list_integers = rdd.map(lambda num: (num, 1)).reduceByKey(add).collect()\n",
        "sorted = custom_merge_sort(list_integers, lambda x: -x[1])\n",
        "print(sorted[:10])"
      ],
      "metadata": {
        "colab": {
          "base_uri": "https://localhost:8080/"
        },
        "id": "EA_VtxMmehUM",
        "outputId": "76efca89-3a25-4e03-9f7f-e7076e30fa5b"
      },
      "execution_count": null,
      "outputs": [
        {
          "output_type": "stream",
          "name": "stdout",
          "text": [
            "[(339988962, 8), (793327022, 5), (830500257, 5), (268141338, 3), (983233161, 3), (310748479, 2), (983189434, 2), (401610809, 2), (284860464, 2), (147137089, 2)]\n"
          ]
        }
      ]
    },
    {
      "cell_type": "markdown",
      "source": [],
      "metadata": {
        "id": "YSFupxoqedh9"
      }
    }
  ]
}